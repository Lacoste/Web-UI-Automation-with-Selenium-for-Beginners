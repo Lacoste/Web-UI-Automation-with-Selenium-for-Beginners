{
 "cells": [
  {
   "cell_type": "markdown",
   "metadata": {},
   "source": [
    "# Web UI Automation with Selenium for Beginners"
   ]
  },
  {
   "cell_type": "markdown",
   "metadata": {},
   "source": [
    "## Follow Along\n",
    "\n",
    "You can get a copy of all files used in this tutorial by cloning this repository!\n",
    "\n",
    "```shell\n",
    "git clone https://github.com/omaciel/Web-UI-Automation-with-Selenium-for-Beginners.git\n",
    "```\n",
    "\n",
    "Then, make sure to install all the required Python modules using `pip`:\n",
    "\n",
    "```shell\n",
    "pip install -r requirements.txt\n",
    "```\n",
    "\n",
    "From this point onward you can follow along :)\n",
    "\n",
    "\n",
    "## Using Jupyter Notebook\n",
    "\n",
    "You can also follow along using a **Jupyter Notebook**. See this helpfull [document](http://help.pythonanywhere.com/pages/IPythonNotebookVirtualenvs) explaining now to use a virtualenv in a Jupyter notebook\n",
    "\n",
    "* Install the ipython kernel module into your virtualenv\n",
    "\n",
    "```shell\n",
    "workon my-virtualenv-name  # activate your virtualenv, if you haven't already\n",
    "pip install ipykernel\n",
    "```\n",
    "\n",
    "* Now run the kernel \"self-install\" script:\n",
    "\n",
    "```shell\n",
    "python -m ipykernel install --user --name=my-virtualenv-name\n",
    "```\n",
    "\n",
    "Replacing the `--name` parameter as appropriate.\n",
    "\n",
    "* You should now be able to see your kernel in the IPython notebook menu: `Kernel -> Change kernel` and be able so switch to it (you may need to refresh the page before it appears in the list). IPython will remember which kernel to use for that notebook from then on.\n"
   ]
  },
  {
   "cell_type": "markdown",
   "metadata": {
    "slideshow": {
     "slide_type": "slide"
    }
   },
   "source": [
    "## Using Selenium with Python\n",
    "\n",
    "Let's write actual python code to interact with a web browser.\n",
    "\n",
    "### Install the selenium python module\n",
    "\n",
    "**NOTE**: This step can be skipped if you've cloned the repository and installed all Python dependencies.\n",
    "\n",
    "```shell\n",
    "pip install selenium\n",
    "```\n",
    "\n",
    "### Install web driver\n",
    "\n",
    "You will need to install a valid webdriver:\n",
    "\n",
    "* Chrome:\thttps://sites.google.com/a/chromium.org/chromedriver/downloads\n",
    "* Edge:\thttps://developer.microsoft.com/en-us/microsoft-edge/tools/webdriver/\n",
    "* Firefox:\thttps://github.com/mozilla/geckodriver/releases\n",
    "* Safari:\thttps://webkit.org/blog/6900/webdriver-support-in-safari-10/\n",
    "\n",
    "For this tutorial I have chosen to use the web driver for the chrome web browser.\n",
    "\n",
    "**NOTE**: Make sure to include the ChromeDriver location in your PATH environment variable\n",
    "\n",
    "### Interact with Chrome via Python Selenium\n",
    "\n",
    "Open a python shell:"
   ]
  },
  {
   "cell_type": "code",
   "execution_count": null,
   "metadata": {
    "slideshow": {
     "slide_type": "subslide"
    }
   },
   "outputs": [],
   "source": [
    "from selenium import webdriver\n",
    "from selenium.webdriver.common.keys import Keys"
   ]
  },
  {
   "cell_type": "markdown",
   "metadata": {
    "slideshow": {
     "slide_type": "subslide"
    }
   },
   "source": [
    "Create a new **Chrome** browser instance:"
   ]
  },
  {
   "cell_type": "code",
   "execution_count": null,
   "metadata": {
    "slideshow": {
     "slide_type": "subslide"
    }
   },
   "outputs": [],
   "source": [
    "browser = webdriver.Chrome()\n",
    "browser.get('https://www.google.com')"
   ]
  },
  {
   "cell_type": "markdown",
   "metadata": {
    "slideshow": {
     "slide_type": "subslide"
    }
   },
   "source": [
    "Search for the term **Red Hat**"
   ]
  },
  {
   "cell_type": "code",
   "execution_count": null,
   "metadata": {
    "slideshow": {
     "slide_type": "subslide"
    }
   },
   "outputs": [],
   "source": [
    "element = browser.find_element_by_id('lst-ib')\n",
    "assert element is not None\n",
    "element.send_keys('Red Hat' + Keys.RETURN)\n",
    "assert browser.title.startswith('Red Hat')"
   ]
  },
  {
   "cell_type": "markdown",
   "metadata": {},
   "source": [
    "You can also 'inject' code into a web page"
   ]
  },
  {
   "cell_type": "code",
   "execution_count": null,
   "metadata": {},
   "outputs": [],
   "source": [
    "browser.get('https://www.google.com')\n",
    "element = browser.find_element_by_id('hplogo')\n",
    "assert element is not None"
   ]
  },
  {
   "cell_type": "markdown",
   "metadata": {},
   "source": [
    "Change the Google logo for another picture"
   ]
  },
  {
   "cell_type": "code",
   "execution_count": null,
   "metadata": {},
   "outputs": [],
   "source": [
    "browser.execute_script(\"arguments[0].setAttribute('srcset', 'https://omaciel.fedorapeople.org/ogmaciel.png')\", element)\n",
    "browser.execute_script(\"arguments[0].setAttribute('height', '100%')\", element)"
   ]
  },
  {
   "cell_type": "code",
   "execution_count": null,
   "metadata": {},
   "outputs": [],
   "source": [
    "browser.quit()"
   ]
  }
 ],
 "metadata": {
  "kernelspec": {
   "display_name": "selenium-beginners",
   "language": "python",
   "name": "selenium-beginners"
  },
  "language_info": {
   "codemirror_mode": {
    "name": "ipython",
    "version": 3
   },
   "file_extension": ".py",
   "mimetype": "text/x-python",
   "name": "python",
   "nbconvert_exporter": "python",
   "pygments_lexer": "ipython3",
   "version": "3.6.1"
  }
 },
 "nbformat": 4,
 "nbformat_minor": 2
}
